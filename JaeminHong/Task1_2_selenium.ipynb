{
 "cells": [
  {
   "cell_type": "code",
   "execution_count": 1,
   "metadata": {},
   "outputs": [],
   "source": [
    "from selenium import webdriver\n",
    "from selenium.webdriver.common.by import By\n",
    "from selenium.webdriver.common.keys import Keys"
   ]
  },
  {
   "cell_type": "code",
   "execution_count": 21,
   "metadata": {},
   "outputs": [],
   "source": [
    "browser = webdriver.Chrome()\n",
    "browser.get(\"https://www.wanted.co.kr/\")\n",
    "\n",
    "elem = browser.find_element(By.CLASS_NAME, \"searchButton\")\n",
    "elem.click()\n",
    "elem = browser.find_element(By.CLASS_NAME, \"SearchBar_SearchBar_container__kpoXq > form > input \")\n",
    "elem.send_keys(\"데이터\")\n",
    "elem.send_keys(Keys.ENTER)"
   ]
  },
  {
   "cell_type": "code",
   "execution_count": 30,
   "metadata": {},
   "outputs": [
    {
     "name": "stdout",
     "output_type": "stream",
     "text": [
      "빅데이터 통합관리 개발(Node.JS)\n",
      "브레인즈컴퍼니\n",
      "응답률 매우 높음\n",
      "서울.한국\n",
      "채용보상금 1,000,000원\n"
     ]
    }
   ],
   "source": [
    "List_container = browser.find_element(By.CLASS_NAME, \"List_List_container__JnQMS\")\n",
    "\n",
    "li = List_container.find_element(By.TAG_NAME, \"li\")\n",
    "job1 = li.find_element(By.TAG_NAME, \"a\")\n",
    "print(job1.text)"
   ]
  },
  {
   "cell_type": "code",
   "execution_count": 31,
   "metadata": {},
   "outputs": [
    {
     "name": "stdout",
     "output_type": "stream",
     "text": [
      "빅데이터 통합관리 개발(Node.JS)\n"
     ]
    }
   ],
   "source": [
    "Jikmu1 = li.find_element(By.CLASS_NAME, \"job-card-position\")\n",
    "print(Jikmu1.text)"
   ]
  },
  {
   "cell_type": "code",
   "execution_count": 49,
   "metadata": {},
   "outputs": [
    {
     "data": {
      "text/plain": [
       "'빅데이터 통합관리 개발(Node.JS)\\n브레인즈컴퍼니\\n응답률 매우 높음\\n서울.한국\\n채용보상금 1,000,000원\\nAI Engineer (ML/DL)\\n데이터비\\n응답률 매우 높음\\n서울.한국\\n채용보상금 1,000,000원\\nDevOps 엔지니어 | AI Lab. 빅데이터 플랫폼 개발팀\\n모아데이타\\n응답률 매우 높음\\n경기.한국\\n채용보상금 1,000,000원\\n빅데이터 솔루션 데이터 엔지니어\\n로이드케이\\n응답률 매우 높음\\n경기.한국\\n채용보상금 1,000,000원\\nIT기획/PM\\n데이터온\\n응답률 매우 높음\\n서울.한국\\n채용보상금 1,000,000원\\n퍼블리싱 담당자\\n데이터온\\n응답률 매우 높음\\n서울.한국\\n채용보상금 1,000,000원\\nPOS팀 C# WPF 기반 응용프로그램 개발자\\n데이터온\\n응답률 매우 높음\\n서울.한국\\n채용보상금 1,000,000원\\n입출금 데이터 관리 담당자\\n코인원(coinone)\\n응답률 매우 높음\\n서울.한국\\n채용보상금 1,000,000원\\n데이터베이스 엔지니어\\n미디어웹\\n응답률 매우 높음\\n서울.한국\\n채용보상금 1,000,000원\\n데이터 엔지니어 (Data Engineer)\\n에스투더블유(S2W)\\n응답률 매우 높음\\n경기.한국\\n채용보상금 1,000,000원\\n데이터 엔지니어, 데이터 사이언티스트\\n쓰리알이노베이션\\n응답률 매우 높음\\n서울.한국\\n채용보상금 1,000,000원\\nDBA(데이터베이스관리자)\\n부동산플래닛\\n응답률 매우 높음\\n서울.한국\\n채용보상금 1,000,000원\\n빅데이터 플랫폼 아키텍처 구축 개발자\\n포네트\\n응답률 매우 높음\\n서울.한국\\n채용보상금 1,000,000원\\n프론트엔드 개발자\\n한국공간데이터\\n응답률 매우 높음\\n서울.한국\\n채용보상금 1,000,000원\\nFlutter 앱 개발자\\n한국공간데이터\\n응답률 매우 높음\\n서울.한국\\n채용보상금 1,000,000원\\n데이터 분석가(3년차)\\n단색\\n응답률 매우 높음\\n서울.한국\\n채용보상금 1,000,000원\\n데이터센터 SAP BC\\n한화시스템ICT부문\\n응답률 매우 높음\\n경기.한국\\n채용보상금 1,000,000원\\n빅데이터 / AI 개발자\\n누리어시스템\\n응답률 매우 높음\\n경기.한국\\n채용보상금 1,000,000원\\n웹 개발(프론트엔드, 백엔드)\\n해봄데이터\\n응답률 매우 높음\\n서울.한국\\n채용보상금 1,000,000원\\n데이터 사이언스 강의 기획자\\n러닝스푼즈\\n응답률 매우 높음\\n서울.한국\\n채용보상금 1,000,000원'"
      ]
     },
     "execution_count": 49,
     "metadata": {},
     "output_type": "execute_result"
    }
   ],
   "source": [
    "ul = List_container.find_element(By.TAG_NAME, \"ul\")\n",
    "ul.text"
   ]
  },
  {
   "cell_type": "code",
   "execution_count": 54,
   "metadata": {},
   "outputs": [
    {
     "name": "stdout",
     "output_type": "stream",
     "text": [
      "빅데이터 통합관리 개발(Node.JS)\n",
      "브레인즈컴퍼니\n",
      "응답률 매우 높음\n",
      "서울.한국\n",
      "채용보상금 1,000,000원\n"
     ]
    }
   ],
   "source": [
    "List1 = browser.find_element(By.XPATH, '//*[@id=\"__next\"]/div[4]/div/div[2]/div[3]/div/div/div[2]/ul/li[1]/div/a')\n",
    "print(List1.text)"
   ]
  },
  {
   "cell_type": "code",
   "execution_count": null,
   "metadata": {},
   "outputs": [],
   "source": []
  }
 ],
 "metadata": {
  "kernelspec": {
   "display_name": "py39_env",
   "language": "python",
   "name": "python3"
  },
  "language_info": {
   "codemirror_mode": {
    "name": "ipython",
    "version": 3
   },
   "file_extension": ".py",
   "mimetype": "text/x-python",
   "name": "python",
   "nbconvert_exporter": "python",
   "pygments_lexer": "ipython3",
   "version": "3.9.15"
  },
  "orig_nbformat": 4,
  "vscode": {
   "interpreter": {
    "hash": "a8c8bec5cc0c362bf9eee36b36fc26918edda74392b07a5cfd5fc0a1c1ef43da"
   }
  }
 },
 "nbformat": 4,
 "nbformat_minor": 2
}
