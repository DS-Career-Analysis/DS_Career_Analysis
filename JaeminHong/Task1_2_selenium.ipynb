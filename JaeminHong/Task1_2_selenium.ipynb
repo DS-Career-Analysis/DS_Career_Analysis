{
 "cells": [
  {
   "cell_type": "code",
   "execution_count": 1,
   "metadata": {},
   "outputs": [],
   "source": [
    "from selenium import webdriver\n",
    "from selenium.webdriver.common.by import By\n",
    "from selenium.webdriver.common.keys import Keys"
   ]
  },
  {
   "cell_type": "code",
   "execution_count": 2,
   "metadata": {},
   "outputs": [],
   "source": [
    "browser = webdriver.Chrome()\n",
    "browser.get(\"https://www.wanted.co.kr\")\n",
    "\n",
    "elem = browser.find_element(By.href, \"searchButton\")\n",
    "elem.click()\n",
    "elem = browser.find_element(By.CLASS_NAME, \"SearchBar_SearchBar_container__kpoXq > form > input \")\n",
    "elem.send_keys(\"데이터\")\n",
    "elem.send_keys(Keys.ENTER)"
   ]
  },
  {
   "cell_type": "code",
   "execution_count": 3,
   "metadata": {},
   "outputs": [
    {
     "name": "stdout",
     "output_type": "stream",
     "text": [
      "빅데이터 통합관리 개발(Node.JS)\n",
      "브레인즈컴퍼니\n",
      "응답률 매우 높음\n",
      "서울.한국\n",
      "채용보상금 1,000,000원\n"
     ]
    }
   ],
   "source": [
    "List_container = browser.find_element(By.CLASS_NAME, \"List_List_container__JnQMS\")\n",
    "\n",
    "li = List_container.find_element(By.TAG_NAME, \"li\")\n",
    "job1 = li.find_element(By.TAG_NAME, \"a\")\n",
    "print(job1.text)"
   ]
  },
  {
   "cell_type": "code",
   "execution_count": 4,
   "metadata": {},
   "outputs": [
    {
     "name": "stdout",
     "output_type": "stream",
     "text": [
      "빅데이터 통합관리 개발(Node.JS)\n"
     ]
    }
   ],
   "source": [
    "Jikmu1 = li.find_element(By.CLASS_NAME, \"job-card-position\")\n",
    "print(Jikmu1.text)"
   ]
  },
  {
   "cell_type": "code",
   "execution_count": 5,
   "metadata": {},
   "outputs": [
    {
     "data": {
      "text/plain": [
       "'빅데이터 통합관리 개발(Node.JS)\\n브레인즈컴퍼니\\n응답률 매우 높음\\n서울.한국\\n채용보상금 1,000,000원\\nAI Engineer (ML/DL)\\n데이터비\\n응답률 매우 높음\\n서울.한국\\n채용보상금 1,000,000원\\nDevOps 엔지니어 | AI Lab. 빅데이터 플랫폼 개발팀\\n모아데이타\\n응답률 매우 높음\\n경기.한국\\n채용보상금 1,000,000원\\n빅데이터 솔루션 데이터 엔지니어\\n로이드케이\\n응답률 매우 높음\\n경기.한국\\n채용보상금 1,000,000원\\n데이터 매니저(Data Manager)\\n인터마인즈\\n응답률 매우 높음\\n경기.한국\\n채용보상금 1,000,000원\\nIT기획/PM\\n데이터온\\n응답률 매우 높음\\n서울.한국\\n채용보상금 1,000,000원\\n퍼블리싱 담당자\\n데이터온\\n응답률 매우 높음\\n서울.한국\\n채용보상금 1,000,000원\\nPOS팀 C# WPF 기반 응용프로그램 개발자\\n데이터온\\n응답률 매우 높음\\n서울.한국\\n채용보상금 1,000,000원\\n입출금 데이터 관리 담당자\\n코인원(coinone)\\n응답률 매우 높음\\n서울.한국\\n채용보상금 1,000,000원\\n데이터베이스 엔지니어\\n미디어웹\\n응답률 매우 높음\\n서울.한국\\n채용보상금 1,000,000원\\nDBA(데이터베이스관리자)\\n부동산플래닛\\n응답률 매우 높음\\n서울.한국\\n채용보상금 1,000,000원\\n데이터베이스 백엔드 개발자\\n오늘앤파트너스\\n응답률 매우 높음\\n서울.한국\\n채용보상금 1,000,000원\\n빅데이터 플랫폼 아키텍처 구축 개발자\\n포네트\\n응답률 매우 높음\\n서울.한국\\n채용보상금 1,000,000원\\n프론트엔드 개발자\\n한국공간데이터\\n응답률 매우 높음\\n서울.한국\\n채용보상금 1,000,000원\\nFlutter 앱 개발자\\n한국공간데이터\\n응답률 매우 높음\\n서울.한국\\n채용보상금 1,000,000원\\n데이터 분석가(3년차)\\n단색\\n응답률 매우 높음\\n서울.한국\\n채용보상금 1,000,000원\\n데이터센터 SAP BC\\n한화시스템ICT부문\\n응답률 매우 높음\\n경기.한국\\n채용보상금 1,000,000원\\n빅데이터 / AI 개발자\\n누리어시스템\\n응답률 매우 높음\\n경기.한국\\n채용보상금 1,000,000원\\n웹 개발(프론트엔드, 백엔드)\\n해봄데이터\\n응답률 매우 높음\\n서울.한국\\n채용보상금 1,000,000원\\n데이터 헌터\\n이젤(Eazel)\\n응답률 매우 높음\\n서울.한국\\n채용보상금 1,000,000원'"
      ]
     },
     "execution_count": 5,
     "metadata": {},
     "output_type": "execute_result"
    }
   ],
   "source": [
    "ul = List_container.find_element(By.TAG_NAME, \"ul\")\n",
    "ul.text"
   ]
  },
  {
   "cell_type": "code",
   "execution_count": 8,
   "metadata": {},
   "outputs": [
    {
     "name": "stdout",
     "output_type": "stream",
     "text": [
      "빅데이터 통합관리 개발(Node.JS)\n",
      "브레인즈컴퍼니\n",
      "응답률 매우 높음\n",
      "서울.한국\n",
      "채용보상금 1,000,000원\n"
     ]
    }
   ],
   "source": [
    "li1 = browser.find_element(By.XPATH, '//*[@id=\"__next\"]/div[4]/div/div[2]/div[3]/div/div/div[2]/ul/li[1]/div/a')\n",
    "print(li1.text)"
   ]
  },
  {
   "attachments": {},
   "cell_type": "markdown",
   "metadata": {},
   "source": [
    "---"
   ]
  },
  {
   "attachments": {},
   "cell_type": "markdown",
   "metadata": {},
   "source": [
    "## **1**"
   ]
  },
  {
   "cell_type": "code",
   "execution_count": 18,
   "metadata": {},
   "outputs": [
    {
     "data": {
      "text/plain": [
       "'https://www.wanted.co.kr/wd/141563'"
      ]
     },
     "execution_count": 18,
     "metadata": {},
     "output_type": "execute_result"
    }
   ],
   "source": [
    "elem = browser.find_element(By.XPATH, '//*[@id=\"__next\"]/div[4]/div/div[2]/div[3]/div/div/div[2]/ul/li[1]/div/a').get_attribute('href')\n",
    "elem"
   ]
  },
  {
   "cell_type": "code",
   "execution_count": 20,
   "metadata": {},
   "outputs": [],
   "source": [
    "elem = browser.find_element(By.XPATH, '//*[@id=\"__next\"]/div[4]/div/div[2]/div[3]/div/div/div[2]/ul/li[1]/div/a')\n",
    "elem.click()"
   ]
  },
  {
   "cell_type": "code",
   "execution_count": 23,
   "metadata": {},
   "outputs": [
    {
     "data": {
      "text/plain": [
       "'빅데이터 통합관리 개발(Node.JS)\\n브레인즈컴퍼니\\n응답률 매우 높음\\n서울.한국\\n#연봉상위6~10%#퇴사율5%이하#51~300명#설립10년이상#스톡옵션#음료#커피#간식#IT, 컨텐츠\\n채용보상금\\n추천인\\n500,000원\\n지원자\\n500,000원\\n5'"
      ]
     },
     "execution_count": 23,
     "metadata": {},
     "output_type": "execute_result"
    }
   ],
   "source": [
    "elem = browser.find_element(By.CLASS_NAME, 'JobHeader_className__HttDA')\n",
    "elem.text"
   ]
  },
  {
   "cell_type": "code",
   "execution_count": 24,
   "metadata": {},
   "outputs": [
    {
     "data": {
      "text/plain": [
       "'＜공통 자격요건＞\\n• 학력 및 경력의 기간을 정확히 기재해주세요\\n• 보유 기술 별로 지원자의 수준과 경험이 어느 정도인지를 상세히 기재해주세요\\n\\n＜이런 사람을 원해요＞\\n• NodeJS 개발 경험이 있으신 분\\n• SIEM 개발이 가능하신 분\\n• SOAR 개발이 가능하신 분'"
      ]
     },
     "execution_count": 24,
     "metadata": {},
     "output_type": "execute_result"
    }
   ],
   "source": [
    "elem = browser.find_element(By.XPATH, '//*[@id=\"__next\"]/div[3]/div[1]/div[1]/div[1]/div[2]/section/p[3]/span')\n",
    "elem.text"
   ]
  },
  {
   "cell_type": "code",
   "execution_count": 27,
   "metadata": {},
   "outputs": [],
   "source": [
    "browser.back()"
   ]
  },
  {
   "attachments": {},
   "cell_type": "markdown",
   "metadata": {},
   "source": [
    "## **2**"
   ]
  },
  {
   "cell_type": "code",
   "execution_count": 28,
   "metadata": {},
   "outputs": [
    {
     "data": {
      "text/plain": [
       "'https://www.wanted.co.kr/wd/64852'"
      ]
     },
     "execution_count": 28,
     "metadata": {},
     "output_type": "execute_result"
    }
   ],
   "source": [
    "elem = browser.find_element(By.XPATH, '//*[@id=\"__next\"]/div[4]/div/div[2]/div[3]/div/div/div[2]/ul/li[2]/div/a').get_attribute('href')\n",
    "elem"
   ]
  },
  {
   "cell_type": "code",
   "execution_count": 29,
   "metadata": {},
   "outputs": [],
   "source": [
    "elem = browser.find_element(By.XPATH, '//*[@id=\"__next\"]/div[4]/div/div[2]/div[3]/div/div/div[2]/ul/li[2]/div/a')\n",
    "elem.click()"
   ]
  },
  {
   "cell_type": "code",
   "execution_count": 30,
   "metadata": {},
   "outputs": [
    {
     "data": {
      "text/plain": [
       "'AI Engineer (ML/DL)\\n데이터비\\n응답률 매우 높음\\n서울.한국\\n#인원급성장#50명이하#설립4~9년#성과급#스톡옵션#인공지능#노트북#IT, 컨텐츠\\n채용보상금\\n추천인\\n500,000원\\n지원자\\n500,000원\\n35'"
      ]
     },
     "execution_count": 30,
     "metadata": {},
     "output_type": "execute_result"
    }
   ],
   "source": [
    "elem = browser.find_element(By.CLASS_NAME, 'JobHeader_className__HttDA')\n",
    "elem.text"
   ]
  },
  {
   "cell_type": "code",
   "execution_count": 31,
   "metadata": {},
   "outputs": [
    {
     "data": {
      "text/plain": [
       "'- Python을 이용한 개발 경험 (pytorch, tensorflow, scikit-learn 등)\\n- 문제에 대한 고민과 토론을 즐기시는 분\\n- 자연어 처리에 대한 관심과 이해가 있으신 분\\n- 기본적인 데이터 전처리에 대한 이해와 경험이 있으신 분\\n- 대용량의 데이터에 대한 최적화를 고민해보신 분'"
      ]
     },
     "execution_count": 31,
     "metadata": {},
     "output_type": "execute_result"
    }
   ],
   "source": [
    "elem = browser.find_element(By.XPATH, '//*[@id=\"__next\"]/div[3]/div[1]/div[1]/div[1]/div[2]/section/p[3]/span')\n",
    "elem.text"
   ]
  },
  {
   "cell_type": "code",
   "execution_count": 32,
   "metadata": {},
   "outputs": [],
   "source": [
    "browser.back()"
   ]
  },
  {
   "attachments": {},
   "cell_type": "markdown",
   "metadata": {},
   "source": [
    "## **3**"
   ]
  },
  {
   "cell_type": "code",
   "execution_count": 33,
   "metadata": {},
   "outputs": [
    {
     "data": {
      "text/plain": [
       "'https://www.wanted.co.kr/wd/144976'"
      ]
     },
     "execution_count": 33,
     "metadata": {},
     "output_type": "execute_result"
    }
   ],
   "source": [
    "elem = browser.find_element(By.XPATH, '//*[@id=\"__next\"]/div[4]/div/div[2]/div[3]/div/div/div[2]/ul/li[3]/div/a').get_attribute('href')\n",
    "elem"
   ]
  },
  {
   "cell_type": "code",
   "execution_count": 34,
   "metadata": {},
   "outputs": [],
   "source": [
    "elem = browser.find_element(By.XPATH, '//*[@id=\"__next\"]/div[4]/div/div[2]/div[3]/div/div/div[2]/ul/li[3]/div/a')\n",
    "elem.click()"
   ]
  },
  {
   "cell_type": "code",
   "execution_count": 35,
   "metadata": {},
   "outputs": [
    {
     "data": {
      "text/plain": [
       "'DevOps 엔지니어 | AI Lab. 빅데이터 플랫폼 개발팀\\n모아데이타\\n응답률 매우 높음\\n경기.한국\\n#인원급성장#50명이하#설립4~9년#육아휴직#출산휴가#리프레시휴가#식비#사내카페#IT, 컨텐츠\\n채용보상금\\n추천인\\n500,000원\\n지원자\\n500,000원\\n0'"
      ]
     },
     "execution_count": 35,
     "metadata": {},
     "output_type": "execute_result"
    }
   ],
   "source": [
    "elem = browser.find_element(By.CLASS_NAME, 'JobHeader_className__HttDA')\n",
    "elem.text"
   ]
  },
  {
   "cell_type": "code",
   "execution_count": 36,
   "metadata": {},
   "outputs": [
    {
     "data": {
      "text/plain": [
       "'- 산업 공학, 컴퓨터 공학 등 관련 전공자\\n- 소프트웨어 개발 및 프로젝트 관리에 대한 광범위한 경험\\n- CI/CD 툴 능숙자\\n- 원활한 의사소통 및 프레젠테이션 기술'"
      ]
     },
     "execution_count": 36,
     "metadata": {},
     "output_type": "execute_result"
    }
   ],
   "source": [
    "elem = browser.find_element(By.XPATH, '//*[@id=\"__next\"]/div[3]/div[1]/div[1]/div[1]/div[2]/section/p[3]/span')\n",
    "elem.text"
   ]
  },
  {
   "cell_type": "code",
   "execution_count": 37,
   "metadata": {},
   "outputs": [],
   "source": [
    "browser.back()"
   ]
  },
  {
   "attachments": {},
   "cell_type": "markdown",
   "metadata": {},
   "source": [
    "## **4**"
   ]
  },
  {
   "cell_type": "code",
   "execution_count": 39,
   "metadata": {},
   "outputs": [
    {
     "data": {
      "text/plain": [
       "'https://www.wanted.co.kr/wd/144903'"
      ]
     },
     "execution_count": 39,
     "metadata": {},
     "output_type": "execute_result"
    }
   ],
   "source": [
    "elem = browser.find_element(By.XPATH, '//*[@id=\"__next\"]/div[4]/div/div[2]/div[3]/div/div/div[2]/ul/li[4]/div/a').get_attribute('href')\n",
    "elem"
   ]
  },
  {
   "cell_type": "code",
   "execution_count": 40,
   "metadata": {},
   "outputs": [],
   "source": [
    "elem = browser.find_element(By.XPATH, '//*[@id=\"__next\"]/div[4]/div/div[2]/div[3]/div/div/div[2]/ul/li[4]/div/a')\n",
    "elem.click()"
   ]
  },
  {
   "cell_type": "code",
   "execution_count": 41,
   "metadata": {},
   "outputs": [
    {
     "data": {
      "text/plain": [
       "'빅데이터 솔루션 데이터 엔지니어\\n로이드케이\\n응답률 매우 높음\\n경기.한국\\n#인원급성장#50명이하#설립10년이상#상여금#워크샵#음료#커피#간식#IT, 컨텐츠\\n채용보상금\\n추천인\\n500,000원\\n지원자\\n500,000원\\n0'"
      ]
     },
     "execution_count": 41,
     "metadata": {},
     "output_type": "execute_result"
    }
   ],
   "source": [
    "elem = browser.find_element(By.CLASS_NAME, 'JobHeader_className__HttDA')\n",
    "elem.text"
   ]
  },
  {
   "cell_type": "code",
   "execution_count": 42,
   "metadata": {},
   "outputs": [
    {
     "data": {
      "text/plain": [
       "'ㆍ서버 (Linux, Windows Server) 개념 이해 및 경험\\nㆍDBMS (Oracle, MySQL, MongoDB, PostgreSQL 등) 기본 개념 이해 및 경험\\nㆍ데이터 분석, 상관 관계 등 논리적인 개념 이해\\nㆍ클라우드 환경 이해 및 경험'"
      ]
     },
     "execution_count": 42,
     "metadata": {},
     "output_type": "execute_result"
    }
   ],
   "source": [
    "elem = browser.find_element(By.XPATH, '//*[@id=\"__next\"]/div[3]/div[1]/div[1]/div[1]/div[2]/section/p[3]/span')\n",
    "elem.text"
   ]
  },
  {
   "cell_type": "code",
   "execution_count": 43,
   "metadata": {},
   "outputs": [],
   "source": [
    "browser.back()"
   ]
  },
  {
   "attachments": {},
   "cell_type": "markdown",
   "metadata": {},
   "source": [
    "## **5**"
   ]
  },
  {
   "cell_type": "code",
   "execution_count": 44,
   "metadata": {},
   "outputs": [
    {
     "data": {
      "text/plain": [
       "'https://www.wanted.co.kr/wd/58835'"
      ]
     },
     "execution_count": 44,
     "metadata": {},
     "output_type": "execute_result"
    }
   ],
   "source": [
    "elem = browser.find_element(By.XPATH, '//*[@id=\"__next\"]/div[4]/div/div[2]/div[3]/div/div/div[2]/ul/li[5]/div/a').get_attribute('href')\n",
    "elem"
   ]
  },
  {
   "cell_type": "code",
   "execution_count": 45,
   "metadata": {},
   "outputs": [],
   "source": [
    "elem = browser.find_element(By.XPATH, '//*[@id=\"__next\"]/div[4]/div/div[2]/div[3]/div/div/div[2]/ul/li[5]/div/a')\n",
    "elem.click()"
   ]
  },
  {
   "cell_type": "code",
   "execution_count": 46,
   "metadata": {},
   "outputs": [
    {
     "data": {
      "text/plain": [
       "'데이터 매니저(Data Manager)\\n인터마인즈\\n응답률 매우 높음\\n경기.한국\\n#연봉업계평균이상#인원급성장#50명이하#설립4~9년#유연근무#스톡옵션#수평적조직#커피#IT, 컨텐츠\\n채용보상금\\n추천인\\n500,000원\\n지원자\\n500,000원\\n8'"
      ]
     },
     "execution_count": 46,
     "metadata": {},
     "output_type": "execute_result"
    }
   ],
   "source": [
    "elem = browser.find_element(By.CLASS_NAME, 'JobHeader_className__HttDA')\n",
    "elem.text"
   ]
  },
  {
   "cell_type": "code",
   "execution_count": 47,
   "metadata": {},
   "outputs": [
    {
     "data": {
      "text/plain": [
       "'• 꼼꼼하고 성실하신 분\\n• 동료와 커뮤니케이션 원활하신 분\\n• 업무에 대해 책임감이 있으신 분\\n• 컴퓨터 사용에 거부감이 없으신 분\\n• 개발 관련 커리어를 쌓아가고 싶으신 분'"
      ]
     },
     "execution_count": 47,
     "metadata": {},
     "output_type": "execute_result"
    }
   ],
   "source": [
    "elem = browser.find_element(By.XPATH, '//*[@id=\"__next\"]/div[3]/div[1]/div[1]/div[1]/div[2]/section/p[3]/span')\n",
    "elem.text"
   ]
  },
  {
   "cell_type": "code",
   "execution_count": 48,
   "metadata": {},
   "outputs": [],
   "source": [
    "browser.back()"
   ]
  },
  {
   "attachments": {},
   "cell_type": "markdown",
   "metadata": {},
   "source": [
    "---"
   ]
  },
  {
   "cell_type": "code",
   "execution_count": null,
   "metadata": {},
   "outputs": [],
   "source": [
    "# 5개 다 추출해봤는데\n",
    "# 직무, 회사, 지역, 링크, 자격요건 각각 깔끔하게 추출하고 싶음"
   ]
  }
 ],
 "metadata": {
  "kernelspec": {
   "display_name": "py39_env",
   "language": "python",
   "name": "python3"
  },
  "language_info": {
   "codemirror_mode": {
    "name": "ipython",
    "version": 3
   },
   "file_extension": ".py",
   "mimetype": "text/x-python",
   "name": "python",
   "nbconvert_exporter": "python",
   "pygments_lexer": "ipython3",
   "version": "3.9.15"
  },
  "orig_nbformat": 4,
  "vscode": {
   "interpreter": {
    "hash": "a8c8bec5cc0c362bf9eee36b36fc26918edda74392b07a5cfd5fc0a1c1ef43da"
   }
  }
 },
 "nbformat": 4,
 "nbformat_minor": 2
}
