{
 "cells": [
  {
   "cell_type": "code",
   "execution_count": 13,
   "id": "49fb17b6",
   "metadata": {},
   "outputs": [],
   "source": [
    "from bs4 import BeautifulSoup\n",
    "import pandas as pd\n",
    "import datetime\n",
    "from selenium import webdriver\n",
    "from selenium.webdriver.support.ui import Select\n",
    "import time\n",
    "from selenium.webdriver.common.by import By\n",
    "from itertools import count\n",
    "import time\n",
    "from tqdm import tqdm_notebook\n",
    "import pdb\n",
    "import re\n",
    "from selenium.webdriver.chrome.service import Service\n",
    "from webdriver_manager.chrome import ChromeDriverManager"
   ]
  },
  {
   "cell_type": "code",
   "execution_count": 14,
   "id": "be41d5d9",
   "metadata": {},
   "outputs": [],
   "source": [
    "driver = webdriver.Chrome(service=Service(ChromeDriverManager().install()))\n",
    "job='데이터'\n",
    "company_name = []\n",
    "position_name = []\n",
    "requirements =[]\n",
    "preferences = []"
   ]
  },
  {
   "cell_type": "code",
   "execution_count": 15,
   "id": "39b6f230",
   "metadata": {},
   "outputs": [],
   "source": [
    "driver.get(f'https://www.wanted.co.kr/search?query={job}')\n",
    "\n",
    "# 스크롤 높이 가져옴\n",
    "last_height = driver.execute_script(\"return document.body.scrollHeight\")\n",
    "\n",
    "while True:\n",
    "    # 끝까지 스크롤 내리기\n",
    "    driver.execute_script(\"window.scrollTo(0, document.body.scrollHeight);\")\n",
    "\n",
    "    # 대기\n",
    "    time.sleep(1)\n",
    "\n",
    "    # 스크롤 내린 후 스크롤 높이 다시 가져옴\n",
    "    new_height = driver.execute_script(\"return document.body.scrollHeight\")\n",
    "    if new_height == last_height:\n",
    "        break\n",
    "    last_height = new_height"
   ]
  },
  {
   "cell_type": "code",
   "execution_count": 18,
   "id": "0c0da695",
   "metadata": {},
   "outputs": [],
   "source": [
    "address=[]\n",
    "i=1\n",
    "while True:\n",
    "    try:\n",
    "        elem = driver.find_element(By.XPATH, f'//*[@id=\"__next\"]/div[4]/div/div[2]/div[3]/div/div/div[2]/ul/li[{i}]/div/a').get_attribute('href')\n",
    "        address.append(elem)\n",
    "        i+=1\n",
    "    except Exception as e:\n",
    "        break"
   ]
  },
  {
     "execution_count": 19,
     "metadata": {},
     "output_type": "execute_result"
    }
   ],
   "source": [
    "address"
   ]
  },
  {
   "cell_type": "code",
   "execution_count": null,
   "id": "c43ea901",
   "metadata": {},
   "outputs": [],
   "source": [
    "for job_address in adress:\n",
    "    driver.get(job_address)\n",
    "    time.sleep(3)\n",
    "    try:\n",
    "        position=driver.find_element(By.XPATH,'//*[@id=\"__next\"]/div[3]/div[1]/div[1]/div[1]/section[2]/h2').text\n",
    "        company=driver.find_element(By.XPATH,'//*[@id=\"__next\"]/div[3]/div[1]/div[1]/div[1]/section[2]/div[1]/h6/a').text\n",
    "        requirement=driver.find_element(By.XPATH,'//*[@id=\"__next\"]/div[3]/div[1]/div[1]/div[1]/div[2]/section[1]/p[3]/span').text\n",
    "        prefer=driver.find_element(By.XPATH, '//*[@id=\"__next\"]/div[3]/div[1]/div[1]/div[1]/div[2]/section[1]/p[4]/span').text\n",
    "        \n",
    "    except Exception as e:\n",
    "        pass\n",
    "        \n",
    "    company_name.append(company)\n",
    "    position_name.append(position)\n",
    "    requirements.append(requirement)\n",
    "    preferences.append(prefer)\n",
    "  "
   ]
  },
  {
   "cell_type": "code",
   "execution_count": 4,
   "id": "53cb546c",
   "metadata": {},
   "outputs": [],
   "source": [
    "job_df = pd.DataFrame({'회사명' : company_name, '직무' : position_name, '자격요건' : requirements, '우대사항' : preferences})\n",
    "job_df.to_csv(\"job.csv\", index = False)"
   ]
  },
  {
   "cell_type": "code",
   "execution_count": 5,
   "id": "46f1f93f",
   "metadata": {
    "scrolled": true
   },
   "outputs": [
    {
     "data": {
      "text/html": [
       "<div>\n",
       "<style scoped>\n",
       "    .dataframe tbody tr th:only-of-type {\n",
       "        vertical-align: middle;\n",
       "    }\n",
       "\n",
       "    .dataframe tbody tr th {\n",
       "        vertical-align: top;\n",
       "    }\n",
       "\n",
       "    .dataframe thead th {\n",
       "        text-align: right;\n",
       "    }\n",
       "</style>\n",
       "<table border=\"1\" class=\"dataframe\">\n",
       "  <thead>\n",
       "    <tr style=\"text-align: right;\">\n",
       "      <th></th>\n",
       "      <th>회사명</th>\n",
       "      <th>직무</th>\n",
       "      <th>자격요건</th>\n",
       "      <th>우대사항</th>\n",
       "    </tr>\n",
       "  </thead>\n",
       "  <tbody>\n",
       "    <tr>\n",
       "      <th>0</th>\n",
       "      <td>러닝스푼즈</td>\n",
       "      <td>데이터 사이언스 강의 기획자</td>\n",
       "      <td>[이런 경험을 가진 분을 찾습니다]\\n• 데이터 사이언스 / 데이터 엔지니어링 / ...</td>\n",
       "      <td>[이런 분이면 더 좋아요]\\n• 데이터 분석 프로젝트 경험\\n• SQLD / ADS...</td>\n",
       "    </tr>\n",
       "    <tr>\n",
       "      <th>1</th>\n",
       "      <td>데이터비</td>\n",
       "      <td>AI Engineer (ML/DL)</td>\n",
       "      <td>- Python을 이용한 개발 경험 (pytorch, tensorflow, scik...</td>\n",
       "      <td>- 데이터와 소프트웨어 기술이 사람간의 의사소통을 더 원활하게 도울 수 있다고 믿는...</td>\n",
       "    </tr>\n",
       "    <tr>\n",
       "      <th>2</th>\n",
       "      <td>모아데이타</td>\n",
       "      <td>DevOps 엔지니어 | AI Lab. 빅데이터 플랫폼 개발팀</td>\n",
       "      <td>- 산업 공학, 컴퓨터 공학 등 관련 전공자\\n- 소프트웨어 개발 및 프로젝트 관리...</td>\n",
       "      <td>• 관련 전공자 \\n• 각종 대회 입상자</td>\n",
       "    </tr>\n",
       "    <tr>\n",
       "      <th>3</th>\n",
       "      <td>로이드케이</td>\n",
       "      <td>빅데이터 솔루션 데이터 엔지니어</td>\n",
       "      <td>ㆍ서버 (Linux, Windows Server) 개념 이해 및 경험\\nㆍDBMS ...</td>\n",
       "      <td>ㆍ컴퓨터/정보통신/보안/시스템 공학계열 전공자\\nㆍ정보처리(산업)기사, 리눅스마스터...</td>\n",
       "    </tr>\n",
       "    <tr>\n",
       "      <th>4</th>\n",
       "      <td>데이터온</td>\n",
       "      <td>IT기획/PM</td>\n",
       "      <td>• 아래 유관 경력 총 3년 이상 (신입 불가)\\n• 리테일 플랫폼 Digital ...</td>\n",
       "      <td>• 리테일 플랫폼 전략/기획해 본 경험이 있으신 분\\n• 기업 운영 백앤드 시스템(...</td>\n",
       "    </tr>\n",
       "  </tbody>\n",
       "</table>\n",
       "</div>"
      ],
      "text/plain": [
       "     회사명                                  직무  \\\n",
       "0  러닝스푼즈                     데이터 사이언스 강의 기획자   \n",
       "1   데이터비                 AI Engineer (ML/DL)   \n",
       "2  모아데이타  DevOps 엔지니어 | AI Lab. 빅데이터 플랫폼 개발팀   \n",
       "3  로이드케이                   빅데이터 솔루션 데이터 엔지니어   \n",
       "4   데이터온                             IT기획/PM   \n",
       "\n",
       "                                                자격요건  \\\n",
       "0  [이런 경험을 가진 분을 찾습니다]\\n• 데이터 사이언스 / 데이터 엔지니어링 / ...   \n",
       "1  - Python을 이용한 개발 경험 (pytorch, tensorflow, scik...   \n",
       "2  - 산업 공학, 컴퓨터 공학 등 관련 전공자\\n- 소프트웨어 개발 및 프로젝트 관리...   \n",
       "3  ㆍ서버 (Linux, Windows Server) 개념 이해 및 경험\\nㆍDBMS ...   \n",
       "4  • 아래 유관 경력 총 3년 이상 (신입 불가)\\n• 리테일 플랫폼 Digital ...   \n",
       "\n",
       "                                                우대사항  \n",
       "0  [이런 분이면 더 좋아요]\\n• 데이터 분석 프로젝트 경험\\n• SQLD / ADS...  \n",
       "1  - 데이터와 소프트웨어 기술이 사람간의 의사소통을 더 원활하게 도울 수 있다고 믿는...  \n",
       "2                             • 관련 전공자 \\n• 각종 대회 입상자  \n",
       "3  ㆍ컴퓨터/정보통신/보안/시스템 공학계열 전공자\\nㆍ정보처리(산업)기사, 리눅스마스터...  \n",
       "4  • 리테일 플랫폼 전략/기획해 본 경험이 있으신 분\\n• 기업 운영 백앤드 시스템(...  "
      ]
     },
     "execution_count": 5,
     "metadata": {},
     "output_type": "execute_result"
    }
   ],
   "source": [
    "job_df"
   ]
  },
  {
   "cell_type": "code",
   "execution_count": null,
   "id": "3f816eac",
   "metadata": {},
   "outputs": [],
   "source": []
  }
 ],
 "metadata": {
  "kernelspec": {
   "display_name": "Python 3 (ipykernel)",
   "language": "python",
   "name": "python3"
  },
  "language_info": {
   "codemirror_mode": {
    "name": "ipython",
    "version": 3
   },
   "file_extension": ".py",
   "mimetype": "text/x-python",
   "name": "python",
   "nbconvert_exporter": "python",
   "pygments_lexer": "ipython3",
   "version": "3.9.12"
  }
 },
 "nbformat": 4,
 "nbformat_minor": 5
}
